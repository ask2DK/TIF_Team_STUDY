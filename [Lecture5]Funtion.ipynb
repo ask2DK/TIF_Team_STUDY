{
 "cells": [
  {
   "cell_type": "markdown",
   "metadata": {},
   "source": [
    "# Lecture 5: Funtion"
   ]
  },
  {
   "cell_type": "code",
   "execution_count": 119,
   "metadata": {},
   "outputs": [
    {
     "data": {
      "text/plain": [
       "1000"
      ]
     },
     "execution_count": 119,
     "metadata": {},
     "output_type": "execute_result"
    }
   ],
   "source": [
    "def rectangle_area(x,y) :\n",
    "    return x*y\n",
    "\n",
    "row,col = 10,100\n",
    "rectangle_area(row,col)"
   ]
  },
  {
   "cell_type": "markdown",
   "metadata": {},
   "source": [
    "인자로 받은 값(seq = test)를 바로 수정하는 것은 권장하지 않음"
   ]
  },
  {
   "cell_type": "markdown",
   "metadata": {},
   "source": [
    "*내가 자주하는 실수"
   ]
  },
  {
   "cell_type": "code",
   "execution_count": 120,
   "metadata": {},
   "outputs": [
    {
     "name": "stdout",
     "output_type": "stream",
     "text": [
      "[1, 2, 3, 4, 1]\n"
     ]
    }
   ],
   "source": [
    "def func(seq) :\n",
    "    seq +=[1]\n",
    "\n",
    "test = [1,2,3,4]\n",
    "func(test)\n",
    "print(test)"
   ]
  },
  {
   "cell_type": "code",
   "execution_count": 121,
   "metadata": {},
   "outputs": [
    {
     "name": "stdout",
     "output_type": "stream",
     "text": [
      "[1, 2, 3, 4]\n",
      "[1, 2, 3, 4, 1]\n"
     ]
    }
   ],
   "source": [
    "def func(inpu) :\n",
    "    seq = list(inpu)\n",
    "    seq +=[1]\n",
    "    return seq\n",
    "\n",
    "test = [1,2,3,4]\n",
    "func(test)\n",
    "print(test)\n",
    "print(func(test))"
   ]
  },
  {
   "cell_type": "markdown",
   "metadata": {},
   "source": [
    "### Variable Scope"
   ]
  },
  {
   "cell_type": "markdown",
   "metadata": {},
   "source": [
    "*권장하는 코드 아님"
   ]
  },
  {
   "cell_type": "code",
   "execution_count": 122,
   "metadata": {},
   "outputs": [
    {
     "name": "stdout",
     "output_type": "stream",
     "text": [
      "31\n",
      "20\n"
     ]
    }
   ],
   "source": [
    "var1,var2 = 10,20\n",
    "\n",
    "def func(v):\n",
    "    v +=1\n",
    "    print(var1+v)\n",
    "\n",
    "func(var2)\n",
    "print(var2)"
   ]
  },
  {
   "cell_type": "markdown",
   "metadata": {},
   "source": [
    "### Global & Nonlocal"
   ]
  },
  {
   "cell_type": "markdown",
   "metadata": {},
   "source": [
    " - Global : 최상위에 선언, 다른 파일에 접근 가능\n",
    " - Local : 합수 안에 선언"
   ]
  },
  {
   "cell_type": "code",
   "execution_count": 123,
   "metadata": {},
   "outputs": [
    {
     "name": "stdout",
     "output_type": "stream",
     "text": [
      "test1: 1\n",
      "test1: 2\n",
      "test2: 10\n",
      "test2: 11\n",
      "main_var :  2\n"
     ]
    }
   ],
   "source": [
    "var = 1\n",
    "\n",
    "def main():\n",
    "    var = 10\n",
    "    \n",
    "    def test1():\n",
    "        global var\n",
    "        # 최상위 변수 var = 1\n",
    "        print('test1:',var)\n",
    "        var +=1\n",
    "        print('test1:',var)\n",
    "    \n",
    "    def test2():\n",
    "        nonlocal var\n",
    "        # 직상위 변수 var = 10\n",
    "        print('test2:',var)\n",
    "        var +=1\n",
    "        print('test2:',var)\n",
    "    \n",
    "    \n",
    "    test1()\n",
    "    test2()\n",
    "   \n",
    "\n",
    "main()\n",
    "print('main_var : ', var)\n",
    "    "
   ]
  },
  {
   "cell_type": "markdown",
   "metadata": {},
   "source": [
    "### How to Make Closure"
   ]
  },
  {
   "cell_type": "code",
   "execution_count": 124,
   "metadata": {},
   "outputs": [],
   "source": [
    "number =10\n",
    "\n",
    "def closure(inpu):\n",
    "    def print_closure():\n",
    "        print(inpu)\n",
    "    return print_closure"
   ]
  },
  {
   "cell_type": "code",
   "execution_count": 125,
   "metadata": {},
   "outputs": [],
   "source": [
    "test_11 = closure(11)\n",
    "test_45 = closure(45)"
   ]
  },
  {
   "cell_type": "code",
   "execution_count": 126,
   "metadata": {},
   "outputs": [
    {
     "name": "stdout",
     "output_type": "stream",
     "text": [
      "11\n"
     ]
    },
    {
     "data": {
      "text/plain": [
       "<function __main__.closure.<locals>.print_closure()>"
      ]
     },
     "execution_count": 126,
     "metadata": {},
     "output_type": "execute_result"
    }
   ],
   "source": [
    "number +=10\n",
    "test_11()\n",
    "test_11"
   ]
  },
  {
   "cell_type": "markdown",
   "metadata": {},
   "source": [
    "example_Closure"
   ]
  },
  {
   "cell_type": "code",
   "execution_count": 127,
   "metadata": {},
   "outputs": [],
   "source": [
    "def add(inpu):\n",
    "    return inpu+2\n",
    "\n",
    "def multi(inpu):\n",
    "    return inpu*2\n",
    "\n",
    "def factory(fun,n) :\n",
    "    \n",
    "    def closure(inpu):\n",
    "        print('i',inpu)\n",
    "        \n",
    "        for _ in range(n) :\n",
    "            inpu = fun(inpu)\n",
    "            print(inpu)\n",
    "        return inpu\n",
    "    \n",
    "    return closure"
   ]
  },
  {
   "cell_type": "code",
   "execution_count": 128,
   "metadata": {},
   "outputs": [
    {
     "data": {
      "text/plain": [
       "<function __main__.factory.<locals>.closure(inpu)>"
      ]
     },
     "execution_count": 128,
     "metadata": {},
     "output_type": "execute_result"
    }
   ],
   "source": [
    "factory(add,4)"
   ]
  },
  {
   "cell_type": "code",
   "execution_count": 129,
   "metadata": {},
   "outputs": [
    {
     "name": "stdout",
     "output_type": "stream",
     "text": [
      "i 10\n",
      "12\n",
      "14\n",
      "16\n",
      "18\n"
     ]
    },
    {
     "data": {
      "text/plain": [
       "18"
      ]
     },
     "execution_count": 129,
     "metadata": {},
     "output_type": "execute_result"
    }
   ],
   "source": [
    "factory(add,4)(10)"
   ]
  },
  {
   "cell_type": "code",
   "execution_count": 130,
   "metadata": {},
   "outputs": [
    {
     "name": "stdout",
     "output_type": "stream",
     "text": [
      "i 100\n",
      "102\n",
      "104\n",
      "106\n",
      "108\n"
     ]
    },
    {
     "data": {
      "text/plain": [
       "108"
      ]
     },
     "execution_count": 130,
     "metadata": {},
     "output_type": "execute_result"
    }
   ],
   "source": [
    "factory(add,4)(100)"
   ]
  },
  {
   "cell_type": "markdown",
   "metadata": {},
   "source": [
    "### Decorator"
   ]
  },
  {
   "cell_type": "code",
   "execution_count": 131,
   "metadata": {},
   "outputs": [],
   "source": [
    "def factory(fun):\n",
    "    def closure(inpu):\n",
    "        print(\"Input : \",inpu)\n",
    "        out = fun(inpu)\n",
    "        print(\"output : \",out)\n",
    "    \n",
    "    return closure"
   ]
  },
  {
   "cell_type": "code",
   "execution_count": 132,
   "metadata": {},
   "outputs": [
    {
     "name": "stdout",
     "output_type": "stream",
     "text": [
      "Input :  10\n",
      "output :  12\n"
     ]
    }
   ],
   "source": [
    "test_add = factory(add)(10)"
   ]
  },
  {
   "cell_type": "code",
   "execution_count": 133,
   "metadata": {},
   "outputs": [
    {
     "name": "stdout",
     "output_type": "stream",
     "text": [
      "Input :  10\n",
      "output :  12\n"
     ]
    }
   ],
   "source": [
    "@factory\n",
    "def add(inpu):\n",
    "    return inpu+2\n",
    "\n",
    "add(10)"
   ]
  },
  {
   "cell_type": "code",
   "execution_count": 134,
   "metadata": {},
   "outputs": [],
   "source": [
    "def decorator_factory(times) :\n",
    "    def times_decorator(fun):\n",
    "        def closure(inpu):\n",
    "            for _ in range(times) :\n",
    "                inpu = fun(inpu)\n",
    "            return inpu\n",
    "        return closure\n",
    "    return times_decorator"
   ]
  },
  {
   "cell_type": "code",
   "execution_count": 135,
   "metadata": {},
   "outputs": [
    {
     "name": "stdout",
     "output_type": "stream",
     "text": [
      "5\n",
      "7\n",
      "9\n",
      "11\n",
      "13\n",
      "15\n",
      "17\n",
      "19\n",
      "21\n",
      "23\n"
     ]
    },
    {
     "data": {
      "text/plain": [
       "25"
      ]
     },
     "execution_count": 135,
     "metadata": {},
     "output_type": "execute_result"
    }
   ],
   "source": [
    "@decorator_factory(10)\n",
    "def add(inpu):\n",
    "    print(inpu)\n",
    "    return inpu+2\n",
    "\n",
    "add(5)"
   ]
  },
  {
   "cell_type": "code",
   "execution_count": 136,
   "metadata": {},
   "outputs": [
    {
     "name": "stdout",
     "output_type": "stream",
     "text": [
      "closure\n"
     ]
    }
   ],
   "source": [
    "print(add.__name__)"
   ]
  },
  {
   "cell_type": "code",
   "execution_count": 137,
   "metadata": {},
   "outputs": [],
   "source": [
    "from functools import wraps\n",
    "\n",
    "def factory(fun):\n",
    "    @wraps(fun)\n",
    "    def closure(inpu):\n",
    "        print(\"Input : \",inpu)\n",
    "        out = fun(inpu)\n",
    "        print(\"output : \",out)\n",
    "    \n",
    "    return closure"
   ]
  },
  {
   "cell_type": "code",
   "execution_count": 138,
   "metadata": {},
   "outputs": [
    {
     "name": "stdout",
     "output_type": "stream",
     "text": [
      "factory\n"
     ]
    }
   ],
   "source": [
    "print(factory.__name__)"
   ]
  },
  {
   "cell_type": "markdown",
   "metadata": {},
   "source": [
    "### 재귀함수"
   ]
  },
  {
   "cell_type": "code",
   "execution_count": 139,
   "metadata": {},
   "outputs": [],
   "source": [
    "def fib(n):\n",
    "    if n<=1: return n\n",
    "    return fib(n-1)+fib(n-2)"
   ]
  },
  {
   "cell_type": "code",
   "execution_count": 140,
   "metadata": {},
   "outputs": [
    {
     "data": {
      "text/plain": [
       "55"
      ]
     },
     "execution_count": 140,
     "metadata": {},
     "output_type": "execute_result"
    }
   ],
   "source": [
    "fib(10)"
   ]
  },
  {
   "cell_type": "code",
   "execution_count": 141,
   "metadata": {},
   "outputs": [],
   "source": [
    "def factorial(n):\n",
    "    if n<=1 : return n\n",
    "    return n*factorial(n-1)"
   ]
  },
  {
   "cell_type": "code",
   "execution_count": 142,
   "metadata": {},
   "outputs": [
    {
     "data": {
      "text/plain": [
       "120"
      ]
     },
     "execution_count": 142,
     "metadata": {},
     "output_type": "execute_result"
    }
   ],
   "source": [
    "factorial(5)"
   ]
  },
  {
   "cell_type": "markdown",
   "metadata": {},
   "source": [
    "### Parameter"
   ]
  },
  {
   "cell_type": "code",
   "execution_count": 143,
   "metadata": {},
   "outputs": [],
   "source": [
    "def test_add(num1,num2,*args):\n",
    "    print(args)\n",
    "\n",
    "    sum = 0\n",
    "    for e in args :\n",
    "        sum+=e\n",
    "    return num1+num2+sum"
   ]
  },
  {
   "cell_type": "code",
   "execution_count": 144,
   "metadata": {},
   "outputs": [
    {
     "name": "stdout",
     "output_type": "stream",
     "text": [
      "(3, 4, 5)\n"
     ]
    },
    {
     "data": {
      "text/plain": [
       "15"
      ]
     },
     "execution_count": 144,
     "metadata": {},
     "output_type": "execute_result"
    }
   ],
   "source": [
    "test_add(1,2,3,4,5)"
   ]
  },
  {
   "cell_type": "markdown",
   "metadata": {},
   "source": [
    "키워드 가변 인자 : Dictionary 형태로 반환"
   ]
  },
  {
   "cell_type": "code",
   "execution_count": 145,
   "metadata": {},
   "outputs": [
    {
     "name": "stdout",
     "output_type": "stream",
     "text": [
      "(3, 2, 10) {'var1': 100}\n"
     ]
    }
   ],
   "source": [
    "def test_args(num1,*args,**kwargs):\n",
    "    print(args,kwargs)\n",
    "\n",
    "test_args(1,3,2,10,var1=100)"
   ]
  },
  {
   "cell_type": "markdown",
   "metadata": {},
   "source": [
    "일반인자>기본값 인자>가변인자>키워드 가변인자"
   ]
  }
 ],
 "metadata": {
  "kernelspec": {
   "display_name": "Python 3.10.2 64-bit",
   "language": "python",
   "name": "python3"
  },
  "language_info": {
   "codemirror_mode": {
    "name": "ipython",
    "version": 3
   },
   "file_extension": ".py",
   "mimetype": "text/x-python",
   "name": "python",
   "nbconvert_exporter": "python",
   "pygments_lexer": "ipython3",
   "version": "3.10.2"
  },
  "orig_nbformat": 4,
  "vscode": {
   "interpreter": {
    "hash": "52634da84371cba311ea128a5ea7cdc41ff074b781779e754b270ff9f8153cee"
   }
  }
 },
 "nbformat": 4,
 "nbformat_minor": 2
}
