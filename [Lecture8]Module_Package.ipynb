{
 "cells": [
  {
   "cell_type": "markdown",
   "metadata": {},
   "source": [
    "# Lecture 8 : Module_Package"
   ]
  },
  {
   "cell_type": "markdown",
   "metadata": {},
   "source": [
    "- import 문은 호출하는 .py파일을 처음부터 끝까지 다 실행\n",
    "   - main에서 특정 Block을 실행시키고 싶다면 : '\\_\\_name_\\_'"
   ]
  },
  {
   "cell_type": "code",
   "execution_count": 1,
   "metadata": {},
   "outputs": [
    {
     "name": "stdout",
     "output_type": "stream",
     "text": [
      "__main__\n"
     ]
    }
   ],
   "source": [
    "def testfunc(num1,num2) :\n",
    "    return num1+num2\n",
    "\n",
    "print(__name__)"
   ]
  },
  {
   "cell_type": "code",
   "execution_count": 2,
   "metadata": {},
   "outputs": [
    {
     "name": "stdout",
     "output_type": "stream",
     "text": [
      "메인일 때 실행\n"
     ]
    }
   ],
   "source": [
    "if __name__ == '__main__' :\n",
    "    print('메인일 때 실행')"
   ]
  },
  {
   "cell_type": "markdown",
   "metadata": {},
   "source": [
    "example01"
   ]
  },
  {
   "cell_type": "code",
   "execution_count": 3,
   "metadata": {},
   "outputs": [
    {
     "name": "stdout",
     "output_type": "stream",
     "text": [
      "3\n"
     ]
    }
   ],
   "source": [
    "import test.funtest\n",
    "print(test.funtest.test_add(1,2))\n",
    "# directory.filename.functionname"
   ]
  },
  {
   "cell_type": "markdown",
   "metadata": {},
   "source": [
    "init.py :   \n",
    "   폴더를 import"
   ]
  },
  {
   "cell_type": "code",
   "execution_count": 4,
   "metadata": {},
   "outputs": [
    {
     "name": "stdout",
     "output_type": "stream",
     "text": [
      "1001\n"
     ]
    }
   ],
   "source": [
    "import test\n",
    "print(test.test_add(1,test.CONSTANT))"
   ]
  },
  {
   "cell_type": "markdown",
   "metadata": {},
   "source": [
    "---"
   ]
  },
  {
   "cell_type": "markdown",
   "metadata": {},
   "source": [
    "# Package Managing\n",
    "오픈 소스 라이브러리 설치, 다른 환경 실행 etc"
   ]
  },
  {
   "cell_type": "markdown",
   "metadata": {},
   "source": [
    "#### 01. PIP + Virtual env\n",
    "파이썬 기본 패키지 관리 프로그램"
   ]
  },
  {
   "cell_type": "markdown",
   "metadata": {},
   "source": [
    "#### 02. ANACINDA\n",
    "기계학습 및 수치해석 특화 패키지 관리 프로그램"
   ]
  },
  {
   "cell_type": "markdown",
   "metadata": {},
   "source": [
    "#### 03. colab\n",
    " - 대부분의 라이브러리 사전 설치됨\n",
    " - 개별 노트북 마다 개별 환경 설정 가능(노트북 꺼지면 삭제됨)"
   ]
  }
 ],
 "metadata": {
  "kernelspec": {
   "display_name": "Python 3.10.2 64-bit",
   "language": "python",
   "name": "python3"
  },
  "language_info": {
   "codemirror_mode": {
    "name": "ipython",
    "version": 3
   },
   "file_extension": ".py",
   "mimetype": "text/x-python",
   "name": "python",
   "nbconvert_exporter": "python",
   "pygments_lexer": "ipython3",
   "version": "3.10.2"
  },
  "orig_nbformat": 4,
  "vscode": {
   "interpreter": {
    "hash": "52634da84371cba311ea128a5ea7cdc41ff074b781779e754b270ff9f8153cee"
   }
  }
 },
 "nbformat": 4,
 "nbformat_minor": 2
}
