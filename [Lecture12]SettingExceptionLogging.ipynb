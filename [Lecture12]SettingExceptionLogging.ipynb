{
 "cells": [
  {
   "cell_type": "markdown",
   "metadata": {},
   "source": [
    "# Lecture 12 : SettingExceptionLogging"
   ]
  },
  {
   "cell_type": "markdown",
   "metadata": {},
   "source": [
    "명령행 인자, 예외 처리, 로깅"
   ]
  },
  {
   "cell_type": "markdown",
   "metadata": {},
   "source": [
    "### Programming Setting"
   ]
  },
  {
   "cell_type": "markdown",
   "metadata": {},
   "source": [
    "- 실행할 때마다 필요한 설정 값 :   \n",
    "   - 딥러닝 학습 횟수, 학습 계수/ 사용하는 GPU 개수   \n",
    "\n",
    "*Command Line Argument 명령행 인자로 입력"
   ]
  },
  {
   "cell_type": "markdown",
   "metadata": {},
   "source": [
    "- 한번 설정하면 수정이 적은 설정 값 :\n",
    "   -학습 자료 폴더 위치(diractory)   \n",
    "   - 웹 서버의 Listening port\n",
    "\n",
    "*설정 파일에서 불러들이기"
   ]
  },
  {
   "cell_type": "markdown",
   "metadata": {},
   "source": [
    "### Command Line Argument"
   ]
  },
  {
   "cell_type": "markdown",
   "metadata": {},
   "source": [
    "> import sys   \n",
    "> print(sys.argv)"
   ]
  },
  {
   "cell_type": "markdown",
   "metadata": {},
   "source": [
    "> python main.py --options 1234"
   ]
  },
  {
   "cell_type": "markdown",
   "metadata": {},
   "source": [
    "sys.argy 속성으로 접근 : 공백 기준으로 잘라져 문자열 형태로 입력 > 파싱이 번거로움"
   ]
  },
  {
   "cell_type": "markdown",
   "metadata": {},
   "source": [
    "- argparser 라이브러리 활용:   \n",
    "   - 인자 flag 설정\n",
    "   - 타입 설정, 기본값 설정 가능\n",
    "   - help 제공하여 사용자 편의 향상"
   ]
  },
  {
   "cell_type": "code",
   "execution_count": null,
   "metadata": {},
   "outputs": [],
   "source": [
    "import argparse\n",
    "\n",
    "p = argparse.ArgumentParser()\n",
    "p.add_argument('-l','--left',type=int)\n",
    "p.add_argument('-r','--right',type=int)\n",
    "p.add_argument('-operation',dest='op',help='Set Operation', default='sum')\n",
    "\n",
    "args = p.parse_args()\n",
    "#print(args)\n",
    "# 객체 프린트\n",
    "\n",
    "if args.op =='sum':\n",
    "    out = args.left+args.right\n",
    "elif args.op == 'sub':\n",
    "    out = args.left"
   ]
  },
  {
   "cell_type": "markdown",
   "metadata": {},
   "source": [
    "> python main.py -l 1 -r 2   \n",
    ">> 3"
   ]
  },
  {
   "cell_type": "markdown",
   "metadata": {},
   "source": [
    "--- "
   ]
  },
  {
   "cell_type": "markdown",
   "metadata": {},
   "source": [
    "### Exception Handling"
   ]
  },
  {
   "cell_type": "markdown",
   "metadata": {},
   "source": [
    "- 예외가 발생할 수 있는 코드 > 대응 코드 > 진행"
   ]
  },
  {
   "cell_type": "code",
   "execution_count": null,
   "metadata": {},
   "outputs": [],
   "source": [
    "#try :\n",
    "#    <예외 발생 가능 코드>\n",
    "#except <예외 클래스> :\n",
    "#    <대응 코드>"
   ]
  },
  {
   "cell_type": "code",
   "execution_count": null,
   "metadata": {},
   "outputs": [],
   "source": [
    "for i in range(-5,5):\n",
    "    try :\n",
    "        print(10/i)\n",
    "    except ZeroDivisionError:\n",
    "        print('===========ZeroDivision===========')"
   ]
  },
  {
   "cell_type": "markdown",
   "metadata": {},
   "source": [
    "#### Built-in Exceptions"
   ]
  },
  {
   "cell_type": "markdown",
   "metadata": {},
   "source": [
    "- IndexError : 리스트 인덱스 범위 넘어감\n",
    "- NameError : 존재하지 않는 변수 호출\n",
    "- ZeroDivisionError : 0으로 숫자 나눔\n",
    "- ValueError : 변환할 수 없는 문자열,숫자를 변환\n",
    "- FileNotFoundError : 존재하지 않는 파일 호출"
   ]
  },
  {
   "cell_type": "markdown",
   "metadata": {},
   "source": [
    "#### Exception Class\n",
    "- 파이썬 예외 : BaseException 상속(클래스형태, 객체지향 형태로 만들어짐)\n",
    "- BaseException 상속하여 새로운 예외생성 가능"
   ]
  },
  {
   "cell_type": "markdown",
   "metadata": {},
   "source": [
    "### Raising Referencing Exceptions"
   ]
  },
  {
   "cell_type": "markdown",
   "metadata": {},
   "source": [
    "- Raise 구문으로 예외 발생\n",
    "- As 구문으로 잡힌 에러 참조 가능 :\n",
    "   - except <예외 클래스> as <예외 객체>"
   ]
  },
  {
   "cell_type": "code",
   "execution_count": null,
   "metadata": {},
   "outputs": [],
   "source": [
    "try :\n",
    "    while True :\n",
    "        value = input('A B C 중 하나를 입력하세요 : ')\n",
    "        \n",
    "        if len(value) ==1 and value not in 'ABC' :\n",
    "            raise ValueError('잘못된 입력입니다. 종료')\n",
    "        print('선택된 옵션 : ',value)\n",
    "        \n",
    "except ValueError as e :\n",
    "    # e : ('잘못된 입력입니다. 종료')\n",
    "    print(e)"
   ]
  },
  {
   "cell_type": "markdown",
   "metadata": {},
   "source": [
    "### Assertion"
   ]
  },
  {
   "cell_type": "markdown",
   "metadata": {},
   "source": [
    "- 조건을 확인하여 True가 아닐 시 AsserError 발생"
   ]
  },
  {
   "cell_type": "code",
   "execution_count": null,
   "metadata": {},
   "outputs": [],
   "source": [
    "def add_int(inpu):\n",
    "    assert isinstance(inpu,int),'int만 가능'\n",
    "    # 튜플 형태\n",
    "    return inpu +1\n",
    "\n",
    "try :\n",
    "    print(add_int(10))\n",
    "    print(add_int('str'))\n",
    "    print(add_int(20))\n",
    "        \n",
    "except AssertionError as e :\n",
    "    # e : 'int만 가능'\n",
    "    print(e)"
   ]
  },
  {
   "cell_type": "markdown",
   "metadata": {},
   "source": [
    "# Post-Error Processing"
   ]
  },
  {
   "cell_type": "code",
   "execution_count": null,
   "metadata": {},
   "outputs": [],
   "source": [
    "#try :\n",
    "#    functions()\n",
    "#except SomeError as e:\n",
    "#    print(e,'예외 발생')\n",
    "#else : / finally:"
   ]
  },
  {
   "cell_type": "markdown",
   "metadata": {},
   "source": [
    "- else 구문 : 예외 없을 때 실행   \n",
    "예외 발생이 없을 경우, else 이후 값 출력"
   ]
  },
  {
   "cell_type": "markdown",
   "metadata": {},
   "source": [
    "- finally 구문 : 모든 경우 진행   \n",
    "예외 발생 없을 경우, 에러 발생 경우, finaly 값 출력"
   ]
  },
  {
   "cell_type": "code",
   "execution_count": null,
   "metadata": {},
   "outputs": [],
   "source": [
    "def add_int(inpu):\n",
    "    assert isinstance(inpu,int),'int만 가능'\n",
    "    # 튜플 형태\n",
    "    return inpu +1\n",
    "\n",
    "try :\n",
    "    print(add_int(10))\n",
    "    #print(add_int('str'))\n",
    "    print(add_int(20))\n",
    "        \n",
    "except AssertionError as e :\n",
    "    # e : 'int만 가능'\n",
    "    print(e)\n",
    "else :\n",
    "    print('예외 이후')"
   ]
  },
  {
   "cell_type": "code",
   "execution_count": null,
   "metadata": {},
   "outputs": [],
   "source": [
    "def add_int(inpu):\n",
    "    assert isinstance(inpu,int),'int만 가능'\n",
    "    # 튜플 형태\n",
    "    return inpu +1\n",
    "\n",
    "try :\n",
    "    print(add_int(10))\n",
    "    print(add_int('str'))\n",
    "    print(add_int(20))\n",
    "        \n",
    "except AssertionError as e :\n",
    "    # e : 'int만 가능'\n",
    "    print(e)\n",
    "finally :\n",
    "    print('예외 이후')"
   ]
  },
  {
   "cell_type": "code",
   "execution_count": null,
   "metadata": {},
   "outputs": [],
   "source": [
    "for i in range(5,-5,-1):\n",
    "    try :\n",
    "        v /=i\n",
    "    \n",
    "    except NameError:\n",
    "        print(\"ValueError\")\n",
    "        v = 10 \n",
    "    except ZeroDivisionError:\n",
    "        print('===========ZeroDivision===========')\n",
    "        \n",
    "    except Exception as e:  # 처리되지 않은 에러 처리\n",
    "        print(type(e),e)\n",
    "        raise e             # 처리되지 않은 에러 재발생\n",
    "    else :\n",
    "        print(v)\n",
    "    finally :\n",
    "        print('step')"
   ]
  },
  {
   "cell_type": "markdown",
   "metadata": {},
   "source": [
    "---"
   ]
  },
  {
   "cell_type": "markdown",
   "metadata": {},
   "source": [
    "### Logging"
   ]
  },
  {
   "cell_type": "markdown",
   "metadata": {},
   "source": [
    "- 프로그램이 일어나는 동안 발생했던 정보를 기록 :   \n",
    "결과 처리, 유저 접근, 기록된 로그 분석을 통한 디버깅, 유저 패턴 파악   \n",
    "\n",
    "\n",
    "- 기록 용도에 따른 차이 :   \n",
    "표준 에러 출력 ( 일시적, 구조화 필요 )   \n",
    "파일 출력 ( 반 영구적 )"
   ]
  },
  {
   "cell_type": "markdown",
   "metadata": {},
   "source": [
    "#### Logging 모듈\n",
    "- 상황에 따른 레벨의 로그 출력   \n",
    "- DEBUG < INFO < WARNING < ERROR < Critical"
   ]
  },
  {
   "cell_type": "code",
   "execution_count": null,
   "metadata": {},
   "outputs": [],
   "source": [
    "import logging\n",
    "\n",
    "logging.debug('디버깅')\n",
    "logging.critical('test')"
   ]
  },
  {
   "cell_type": "markdown",
   "metadata": {},
   "source": [
    "- DEBUG : 문제 진단\n",
    "- INFO : 정상작동 중, 발생하는 이벤트 모니터링\n",
    "- WARNING : 예상치 못한 일 발생 or 발생하 문제에 대한 경고\n",
    "- ERROR : 오류 발생했으나 프로그램 동작 가능, 일부 기능 수행X\n",
    "- CRITICAL : 심각한 오류 발생, 강제 종료"
   ]
  },
  {
   "cell_type": "markdown",
   "metadata": {},
   "source": [
    "#### Root Logging\n",
    "기본 설정된 로깅 Root 로깅"
   ]
  },
  {
   "cell_type": "markdown",
   "metadata": {},
   "source": [
    "- Basic config로 간단하게 설정 :   \n",
    "로그 기록할 파일 이름   \n",
    "로그 레벨 설정하여 특정 레벨 이상 출력\n",
    "\n",
    "\n",
    "- 기본 설정 :    \n",
    "표준 에러 출력   \n",
    "WARNING 이상 출력\n"
   ]
  },
  {
   "cell_type": "code",
   "execution_count": null,
   "metadata": {},
   "outputs": [],
   "source": [
    "#logging.basicConfig(\n",
    "#    filename = 'test.log,  # 기록할 파일\n",
    "#    level = logging.INFO   # 로그 레벨 설정\n",
    "#)\n",
    "\n",
    "#logging.debug('X')\n",
    "#logging.info('기록')\n",
    "#logging.error('X')"
   ]
  }
 ],
 "metadata": {
  "kernelspec": {
   "display_name": "Python 3.10.2 64-bit",
   "language": "python",
   "name": "python3"
  },
  "language_info": {
   "codemirror_mode": {
    "name": "ipython",
    "version": 3
   },
   "file_extension": ".py",
   "mimetype": "text/x-python",
   "name": "python",
   "nbconvert_exporter": "python",
   "pygments_lexer": "ipython3",
   "version": "3.10.2"
  },
  "orig_nbformat": 4,
  "vscode": {
   "interpreter": {
    "hash": "52634da84371cba311ea128a5ea7cdc41ff074b781779e754b270ff9f8153cee"
   }
  }
 },
 "nbformat": 4,
 "nbformat_minor": 2
}
