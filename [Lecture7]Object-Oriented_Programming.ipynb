{
 "cells": [
  {
   "cell_type": "markdown",
   "metadata": {},
   "source": [
    "# Lecture 7 : Object-Oriented_Programming\n",
    "객체 지향 프로그래밍"
   ]
  },
  {
   "cell_type": "markdown",
   "metadata": {},
   "source": [
    "- 코드를 객체 단위로 나눔\n",
    "- 객체 단위 코드 수정 및 분업"
   ]
  },
  {
   "cell_type": "markdown",
   "metadata": {},
   "source": [
    "### Class\n",
    "   \n",
    "   - Class 설계 : 데이터 속성, 함수 등 \n",
    "   - Instance 객체 : 각 객체의 데이터(속성)이 달라도 함수는 동일"
   ]
  },
  {
   "cell_type": "markdown",
   "metadata": {},
   "source": [
    "Example"
   ]
  },
  {
   "cell_type": "code",
   "execution_count": 1,
   "metadata": {},
   "outputs": [],
   "source": [
    "class Courier(object) :\n",
    "    NATIONALIY = 'KOR'\n",
    "    \n",
    "    def __init__(self, name:str, addr :str) :\n",
    "        self.name = name\n",
    "        self.address = addr\n",
    "        self.parcels = []\n",
    "    \n",
    "    def assign(self, parcel : str) -> None :\n",
    "        self.parcels.append(parcel)\n",
    "        \n",
    "    def deliver(self) -> None :\n",
    "        for parcel in self.parcels :\n",
    "            print(parcel, '배달 중')"
   ]
  },
  {
   "cell_type": "code",
   "execution_count": 2,
   "metadata": {},
   "outputs": [],
   "source": [
    "# 객체\n",
    "courier01 = Courier('김기사','경기도 성남시 정자동')"
   ]
  },
  {
   "cell_type": "code",
   "execution_count": 3,
   "metadata": {},
   "outputs": [
    {
     "name": "stdout",
     "output_type": "stream",
     "text": [
      "김기사  :  경기도 성남시 정자동\n"
     ]
    }
   ],
   "source": [
    "#속성 출력\n",
    "print(courier01.name,' : ',courier01.address)"
   ]
  },
  {
   "cell_type": "code",
   "execution_count": 4,
   "metadata": {},
   "outputs": [
    {
     "name": "stdout",
     "output_type": "stream",
     "text": [
      "편지 배달 중\n",
      "치킨 배달 중\n"
     ]
    }
   ],
   "source": [
    "courier01.assign('편지')\n",
    "courier01.assign('치킨')\n",
    "courier01.deliver()"
   ]
  },
  {
   "cell_type": "markdown",
   "metadata": {},
   "source": [
    "### Class Declaration"
   ]
  },
  {
   "cell_type": "markdown",
   "metadata": {},
   "source": [
    "*CamelCase : 대문자 시작   \n",
    "*SnakeCase : '_'사용"
   ]
  },
  {
   "cell_type": "markdown",
   "metadata": {},
   "source": [
    "클래스 속성 :   \n",
    "- 클래스 전체가 공유하는 속성 값\n",
    "- 모든 객체,인스턴스가 같은 값을 참조\n",
    "- 접근 : courier01.NATIONALIY / Courier.NATIONALIY"
   ]
  },
  {
   "cell_type": "markdown",
   "metadata": {},
   "source": [
    "### Method"
   ]
  },
  {
   "cell_type": "markdown",
   "metadata": {},
   "source": [
    "- 각 객체에 적용이 가능함\n",
    "- 수정하고자 하는 객체를 self 로 지칭"
   ]
  },
  {
   "cell_type": "markdown",
   "metadata": {},
   "source": [
    "### Class Atrribute"
   ]
  },
  {
   "cell_type": "markdown",
   "metadata": {},
   "source": [
    "- 각 객체가 개인적으로 갖는 값\n",
    "- 객체는 언제 어디서든 속성 수정 가능\n",
    "- 존재하지 않는 속성에 값 부여가 가능하지만, 권장하지 않음"
   ]
  },
  {
   "cell_type": "markdown",
   "metadata": {},
   "source": [
    "### 생성자(__init__)"
   ]
  },
  {
   "cell_type": "markdown",
   "metadata": {},
   "source": [
    "- 매직메소드(__) : 문법적 요소로 작동\n",
    "- 객체를 생성할 때 호출됨 : courier01 = Courier()\n",
    "- 일반적으로 객체 속성을 초기화\n",
    "- 생성자의 argument 지정 자유"
   ]
  },
  {
   "cell_type": "markdown",
   "metadata": {},
   "source": [
    "### 소멸자(del)"
   ]
  },
  {
   "cell_type": "code",
   "execution_count": 5,
   "metadata": {},
   "outputs": [],
   "source": [
    "class Courier(object) :\n",
    "    def __del__(self):\n",
    "        self.parcel.clear()"
   ]
  },
  {
   "cell_type": "markdown",
   "metadata": {},
   "source": [
    "- 객체 소멸시 호출\n",
    "- 파이썬은 Garbage Collection 메모리 관리 :\n",
    "   - 객체가 차조되지 않을 때 객체 소멸 but 소멸 타이밍 어려워서 권장X\n",
    "- del 명령어\n",
    "   - 변수 이름을 명시적으로 없앰\n",
    "   - 참조를 삭제, 객체 삭제X"
   ]
  },
  {
   "cell_type": "code",
   "execution_count": 6,
   "metadata": {},
   "outputs": [],
   "source": [
    "del courier01\n",
    "# 객체 이름을 지우는 것, 참조는 여전히 존재"
   ]
  },
  {
   "cell_type": "markdown",
   "metadata": {},
   "source": [
    "---"
   ]
  },
  {
   "cell_type": "markdown",
   "metadata": {},
   "source": [
    "### 01. Inheritance 상속"
   ]
  },
  {
   "cell_type": "markdown",
   "metadata": {},
   "source": [
    "- 기존의 class(부모)를 활용하여 새로운 class(자식)을 구현\n",
    "- 부모class 속성, 함수 등을 활용 : 같은 기능을 재작성할 필요 없음\n",
    "- class 클래스이름(부모클래스)"
   ]
  },
  {
   "cell_type": "markdown",
   "metadata": {},
   "source": [
    "### 02. Polymorphism 다형성"
   ]
  },
  {
   "cell_type": "markdown",
   "metadata": {},
   "source": [
    "- 같은 이름의 메소드를 다르게 작성\n",
    "- 부모 메소드로 접근 시 자식 메소드 실행"
   ]
  },
  {
   "cell_type": "markdown",
   "metadata": {},
   "source": [
    "*DuckTyping"
   ]
  },
  {
   "cell_type": "markdown",
   "metadata": {},
   "source": [
    "### Pytion에서 상속과 다형성\n",
    "- 다중 상속 지원\n",
    "- super 내장 함수 이용하여 상위 클래스 접근 가능"
   ]
  },
  {
   "cell_type": "markdown",
   "metadata": {},
   "source": [
    "Example"
   ]
  },
  {
   "cell_type": "code",
   "execution_count": 7,
   "metadata": {},
   "outputs": [],
   "source": [
    "class Courier() :\n",
    "    def __init__(self, name:str) :\n",
    "        self.name = name\n",
    "        self.parcels = []\n",
    "    \n",
    "    def assign(self, parcel : str) -> None :\n",
    "        self.parcels.append(parcel)\n",
    "        \n",
    "    def deliver(self) -> None :\n",
    "        for parcel in self.parcels :\n",
    "            print(parcel, '배달 중')"
   ]
  },
  {
   "cell_type": "code",
   "execution_count": 8,
   "metadata": {},
   "outputs": [],
   "source": [
    "class Jeju(Courier) :\n",
    "    def __init__(self, name:str, ticket :str) :\n",
    "        super().__init__(name)\n",
    "        self.ticket = ticket\n",
    "\n",
    "    def deliver(self) -> None :\n",
    "        print(self.ticket,'티켓으로 제주도 이동')\n",
    "        super().deliver()"
   ]
  },
  {
   "cell_type": "code",
   "execution_count": 9,
   "metadata": {},
   "outputs": [
    {
     "name": "stdout",
     "output_type": "stream",
     "text": [
      "JEJU15 티켓으로 제주도 이동\n",
      "귤 배달 중\n",
      "한라봉 배달 중\n"
     ]
    }
   ],
   "source": [
    "courier_jeju = Jeju('김기사','JEJU15')\n",
    "courier_jeju.assign('귤')\n",
    "courier_jeju.assign('한라봉')\n",
    "courier_jeju.deliver()"
   ]
  },
  {
   "cell_type": "code",
   "execution_count": 10,
   "metadata": {},
   "outputs": [
    {
     "name": "stdout",
     "output_type": "stream",
     "text": [
      "귤 배달 중\n",
      "한라봉 배달 중\n"
     ]
    }
   ],
   "source": [
    "super(Jeju,courier_jeju).deliver()"
   ]
  },
  {
   "cell_type": "markdown",
   "metadata": {},
   "source": [
    "#### 정적 함수\n",
    "- 객체에서 접근 가능 :   \n",
    "instance.Methode() >> 일반적으로 class.Methode() 형태로 사용"
   ]
  },
  {
   "cell_type": "markdown",
   "metadata": {},
   "source": [
    "- staticmethod :\n",
    "   - @staticmethod\n",
    "   - argument를 받지 않음\n",
    "   - class의 객체보다 메소드 사용이 필요할 때 활용\n",
    "\n",
    "- Class Method :\n",
    "   - @classmethod\n",
    "   - cls 인자"
   ]
  },
  {
   "cell_type": "markdown",
   "metadata": {},
   "source": [
    "*factory패턴 : 메소드,함수를 호출시 객체생성 factory"
   ]
  },
  {
   "cell_type": "code",
   "execution_count": 11,
   "metadata": {},
   "outputs": [],
   "source": [
    "class Number() :\n",
    "    Constant = 10\n",
    "    \n",
    "    @staticmethod\n",
    "    def static_factory():\n",
    "        obj = Number()\n",
    "        obj.vale = Number.Constant\n",
    "        return obj\n",
    "    # Number() 생성해서 Number class를 반환\n",
    "    \n",
    "    @classmethod\n",
    "    def class_factory(cls):\n",
    "        obj = cls()\n",
    "        obj.vale = cls.Constant\n",
    "        return obj\n",
    "    # cls() : 다른 class\n",
    "    # 다른 class를 반환"
   ]
  },
  {
   "cell_type": "code",
   "execution_count": 12,
   "metadata": {},
   "outputs": [],
   "source": [
    "class One(Number):\n",
    "    Constant = 1\n"
   ]
  },
  {
   "cell_type": "code",
   "execution_count": 13,
   "metadata": {},
   "outputs": [
    {
     "name": "stdout",
     "output_type": "stream",
     "text": [
      "10 1\n"
     ]
    }
   ],
   "source": [
    "test_static = Number.static_factory()\n",
    "test_class = One.class_factory()\n",
    "print(test_static.vale,test_class.vale)"
   ]
  },
  {
   "cell_type": "markdown",
   "metadata": {},
   "source": [
    ">> 상속하면 차이가 발생"
   ]
  },
  {
   "cell_type": "markdown",
   "metadata": {},
   "source": [
    "### 03.Visibility 가시성"
   ]
  },
  {
   "cell_type": "markdown",
   "metadata": {},
   "source": [
    "- 다른 클래스에게 객체의 내부를 감춤 :\n",
    "   - 캡슐화, 정보 은닉\n",
    "   - 클래스 간 간섭 최소화\n",
    "   - protected : 부모, 자식 클래스만"
   ]
  },
  {
   "cell_type": "markdown",
   "metadata": {},
   "source": [
    "#### Python에서 가시성"
   ]
  },
  {
   "cell_type": "markdown",
   "metadata": {},
   "source": [
    " - 모두 public : 가독성, 보안문제 존재\n",
    " - private 변수,함수 이름 앞에 '__' : self.__name\n",
    " - protected 변수,함수 이름 앞에 '_' : self._name"
   ]
  },
  {
   "cell_type": "code",
   "execution_count": 14,
   "metadata": {},
   "outputs": [],
   "source": [
    "class Test():\n",
    "    def __init__(self):\n",
    "        self.attr = 1\n",
    "        self._attr = 200\n",
    "        self.__attr = 1000 # _Test__attr"
   ]
  },
  {
   "cell_type": "code",
   "execution_count": 15,
   "metadata": {},
   "outputs": [
    {
     "name": "stdout",
     "output_type": "stream",
     "text": [
      "['_Test__attr', '__class__', '__delattr__', '__dict__', '__dir__', '__doc__', '__eq__', '__format__', '__ge__', '__getattribute__', '__gt__', '__hash__', '__init__', '__init_subclass__', '__le__', '__lt__', '__module__', '__ne__', '__new__', '__reduce__', '__reduce_ex__', '__repr__', '__setattr__', '__sizeof__', '__str__', '__subclasshook__', '__weakref__', '_attr', 'attr']\n"
     ]
    }
   ],
   "source": [
    "instance01 = Test()\n",
    "print(dir(instance01))"
   ]
  },
  {
   "cell_type": "code",
   "execution_count": 16,
   "metadata": {},
   "outputs": [
    {
     "data": {
      "text/plain": [
       "200"
      ]
     },
     "execution_count": 16,
     "metadata": {},
     "output_type": "execute_result"
    }
   ],
   "source": [
    "instance01._attr"
   ]
  },
  {
   "cell_type": "code",
   "execution_count": 17,
   "metadata": {},
   "outputs": [
    {
     "data": {
      "text/plain": [
       "1000"
      ]
     },
     "execution_count": 17,
     "metadata": {},
     "output_type": "execute_result"
    }
   ],
   "source": [
    "instance01._Test__attr"
   ]
  },
  {
   "cell_type": "markdown",
   "metadata": {},
   "source": [
    "*Mangling 이름 바꿈"
   ]
  },
  {
   "cell_type": "markdown",
   "metadata": {},
   "source": [
    "#### Property"
   ]
  },
  {
   "cell_type": "markdown",
   "metadata": {},
   "source": [
    "example"
   ]
  },
  {
   "cell_type": "code",
   "execution_count": 18,
   "metadata": {},
   "outputs": [],
   "source": [
    "class Circle():\n",
    "    PI =3.141592\n",
    "    \n",
    "    def __init__(self,raidus) :\n",
    "        self.r = raidus\n",
    "    \n",
    "    def get_area(self) :\n",
    "        return Circle.PI * self.r**2\n",
    "    \n",
    "    def set_raidus(self,value):\n",
    "        self.r = (value/Circle.PI)**2"
   ]
  },
  {
   "cell_type": "code",
   "execution_count": 19,
   "metadata": {},
   "outputs": [
    {
     "name": "stdout",
     "output_type": "stream",
     "text": [
      "78.5398\n"
     ]
    }
   ],
   "source": [
    "test_circle = Circle(5.)\n",
    "print(test_circle.get_area())"
   ]
  },
  {
   "cell_type": "code",
   "execution_count": 20,
   "metadata": {},
   "outputs": [
    {
     "name": "stdout",
     "output_type": "stream",
     "text": [
      "322.5155456243152\n",
      "10.132122580089836\n"
     ]
    }
   ],
   "source": [
    "test_circle.set_raidus(10)\n",
    "print(test_circle.get_area())\n",
    "print(test_circle.r)"
   ]
  },
  {
   "cell_type": "markdown",
   "metadata": {},
   "source": [
    "@property   \n",
    "> 메소드를 속성 호출처럼 : 가독성   \n",
    "> Getter, Setter"
   ]
  },
  {
   "cell_type": "code",
   "execution_count": 21,
   "metadata": {},
   "outputs": [],
   "source": [
    "class Circle():\n",
    "    PI =3.141592\n",
    "    \n",
    "    def __init__(self,raidus) :\n",
    "        self.r = raidus\n",
    "    \n",
    "    @property\n",
    "    def get_area(self) :\n",
    "        return Circle.PI * self.r**2\n",
    "    \n",
    "    @get_area.setter\n",
    "    def get_area(self,value):\n",
    "        self.r = (value/Circle.PI)**2"
   ]
  },
  {
   "cell_type": "code",
   "execution_count": 22,
   "metadata": {},
   "outputs": [
    {
     "name": "stdout",
     "output_type": "stream",
     "text": [
      "78.5398\n"
     ]
    }
   ],
   "source": [
    "test_circle = Circle(5.)\n",
    "print(test_circle.get_area)"
   ]
  },
  {
   "cell_type": "code",
   "execution_count": 23,
   "metadata": {},
   "outputs": [
    {
     "name": "stdout",
     "output_type": "stream",
     "text": [
      "322.5155456243152\n",
      "10.132122580089836\n"
     ]
    }
   ],
   "source": [
    "test_circle.get_area=10\n",
    "print(test_circle.get_area)\n",
    "print(test_circle.r)"
   ]
  },
  {
   "cell_type": "markdown",
   "metadata": {},
   "source": [
    "---"
   ]
  },
  {
   "cell_type": "markdown",
   "metadata": {},
   "source": [
    "#### indexing 메소드(getitem,setitem)"
   ]
  },
  {
   "cell_type": "markdown",
   "metadata": {},
   "source": [
    "> [ ] indexing 재정의"
   ]
  },
  {
   "cell_type": "code",
   "execution_count": 24,
   "metadata": {},
   "outputs": [],
   "source": [
    "class IndexingTest() :\n",
    "    def __init__(self) :\n",
    "        self.data = {}\n",
    "    \n",
    "    def __getitem__(self,index):\n",
    "        return self.data.get(index, index*2)\n",
    "    # get(index값 있음, 없으면 반환값:tuple형태)\n",
    "    # getitem 메소드 덕분에 에러 발생X\n",
    "        \n",
    "    def __setitem__(self,key,value):\n",
    "        self.data[key] = value"
   ]
  },
  {
   "cell_type": "code",
   "execution_count": 25,
   "metadata": {},
   "outputs": [],
   "source": [
    "test = IndexingTest()"
   ]
  },
  {
   "cell_type": "code",
   "execution_count": 26,
   "metadata": {},
   "outputs": [
    {
     "name": "stdout",
     "output_type": "stream",
     "text": [
      "20\n",
      "(1, 2, 1, 2)\n"
     ]
    }
   ],
   "source": [
    "print(test[10])\n",
    "print(test[1,2])"
   ]
  },
  {
   "cell_type": "code",
   "execution_count": 27,
   "metadata": {},
   "outputs": [
    {
     "name": "stdout",
     "output_type": "stream",
     "text": [
      "십\n",
      "일이\n"
     ]
    }
   ],
   "source": [
    "#setitem\n",
    "test[10] = '십'\n",
    "test[1,2] = '일이'\n",
    "print(test[10])\n",
    "print(test[1,2])"
   ]
  },
  {
   "cell_type": "markdown",
   "metadata": {},
   "source": [
    "#### Length 메소드(len)"
   ]
  },
  {
   "cell_type": "code",
   "execution_count": 28,
   "metadata": {},
   "outputs": [],
   "source": [
    "class LenTest() :\n",
    "    def __init__(self,data, n = None) :\n",
    "        self.data = data\n",
    "        self.times = n\n",
    "        self.length_data = len(self.data)\n",
    "    \n",
    "    def __len__(self):\n",
    "        return self.length_data*self.times\n",
    "    \n",
    "    def __getitem__(self,index):\n",
    "        if index > len(self) : raise IndexError()\n",
    "        # exception 예외처리\n",
    "        \n",
    "        return self.data[index%self.length_data]"
   ]
  },
  {
   "cell_type": "code",
   "execution_count": 29,
   "metadata": {},
   "outputs": [
    {
     "name": "stdout",
     "output_type": "stream",
     "text": [
      "25\n",
      "10\n"
     ]
    }
   ],
   "source": [
    "dataset = LenTest([10,2,2,2,1],5)\n",
    "\n",
    "#__len__\n",
    "print(len(dataset))\n",
    "#__getitem__\n",
    "print(dataset[20])"
   ]
  },
  {
   "cell_type": "markdown",
   "metadata": {},
   "source": [
    "#### Typing(str,int,float)"
   ]
  },
  {
   "cell_type": "markdown",
   "metadata": {},
   "source": [
    "형변환"
   ]
  },
  {
   "cell_type": "code",
   "execution_count": 30,
   "metadata": {},
   "outputs": [],
   "source": [
    "class TypingTest() :\n",
    "    def __init__(self,data) :\n",
    "        self.data = data\n",
    "    \n",
    "    def __str__(self):\n",
    "        return self.data + ' 이게 뭐람'\n",
    "    \n",
    "    def __int__(self):\n",
    "        return self.data + 10"
   ]
  },
  {
   "cell_type": "code",
   "execution_count": 31,
   "metadata": {},
   "outputs": [],
   "source": [
    "test01 = TypingTest('네?')\n",
    "test02 = TypingTest(10)"
   ]
  },
  {
   "cell_type": "code",
   "execution_count": 32,
   "metadata": {},
   "outputs": [
    {
     "data": {
      "text/plain": [
       "'네? 이게 뭐람'"
      ]
     },
     "execution_count": 32,
     "metadata": {},
     "output_type": "execute_result"
    }
   ],
   "source": [
    "str(test01)\n",
    "# int(test01) 오류"
   ]
  },
  {
   "cell_type": "code",
   "execution_count": 33,
   "metadata": {},
   "outputs": [
    {
     "data": {
      "text/plain": [
       "20"
      ]
     },
     "execution_count": 33,
     "metadata": {},
     "output_type": "execute_result"
    }
   ],
   "source": [
    "int(test02)"
   ]
  },
  {
   "cell_type": "markdown",
   "metadata": {},
   "source": [
    "#### 비교연산자"
   ]
  },
  {
   "cell_type": "code",
   "execution_count": 34,
   "metadata": {},
   "outputs": [],
   "source": [
    "class ComparTest() :\n",
    "    def __init__(self,name,cid) :\n",
    "        self.name = name\n",
    "        self.cid = cid\n",
    "    \n",
    "    def __lt__(self,other):\n",
    "        return self.cid < other.cid"
   ]
  },
  {
   "cell_type": "code",
   "execution_count": 35,
   "metadata": {},
   "outputs": [],
   "source": [
    "dataset = [ComparTest('김 기사',56),ComparTest('박 기사',72),ComparTest('정 기사',44)]"
   ]
  },
  {
   "cell_type": "code",
   "execution_count": 36,
   "metadata": {},
   "outputs": [
    {
     "data": {
      "text/plain": [
       "True"
      ]
     },
     "execution_count": 36,
     "metadata": {},
     "output_type": "execute_result"
    }
   ],
   "source": [
    "dataset[0].__lt__(dataset[1])\n",
    "# 김기사 56 < 박기사 72 : True"
   ]
  },
  {
   "cell_type": "code",
   "execution_count": 37,
   "metadata": {},
   "outputs": [
    {
     "name": "stdout",
     "output_type": "stream",
     "text": [
      "['정 기사', '김 기사', '박 기사']\n"
     ]
    }
   ],
   "source": [
    "print([data.name for data in sorted(dataset)])"
   ]
  },
  {
   "cell_type": "code",
   "execution_count": 38,
   "metadata": {},
   "outputs": [
    {
     "name": "stdout",
     "output_type": "stream",
     "text": [
      "정 기사 김 기사 박 기사\n"
     ]
    }
   ],
   "source": [
    "print(*[data.name for data in sorted(dataset)])"
   ]
  },
  {
   "cell_type": "markdown",
   "metadata": {},
   "source": [
    "#### 산술"
   ]
  },
  {
   "cell_type": "code",
   "execution_count": 39,
   "metadata": {},
   "outputs": [],
   "source": [
    "class ArithTest:\n",
    "    def __init__(self,id,serial) :\n",
    "        self.id = id\n",
    "        self.number = serial\n",
    "    \n",
    "    def __str__(self):\n",
    "        return str(self.id) + ' : ' + str(self.number)\n",
    "    \n",
    "    # other : 다른 클래스\n",
    "    # 새로운 클래스 반환\n",
    "    def __add__(self,other):\n",
    "        return ArithTest(self.id+other.id, self.number+other.number)"
   ]
  },
  {
   "cell_type": "code",
   "execution_count": 40,
   "metadata": {},
   "outputs": [],
   "source": [
    "num1 = ArithTest(11022,11221)\n",
    "num2 = ArithTest(91022,99221)"
   ]
  },
  {
   "cell_type": "code",
   "execution_count": 41,
   "metadata": {},
   "outputs": [
    {
     "name": "stdout",
     "output_type": "stream",
     "text": [
      "102044 : 110442\n"
     ]
    }
   ],
   "source": [
    "print(num1 + num2)"
   ]
  },
  {
   "cell_type": "code",
   "execution_count": 42,
   "metadata": {},
   "outputs": [],
   "source": [
    "class ArithTest:\n",
    "    def __init__(self,r,i) :\n",
    "        self.r = r\n",
    "        self.i = i\n",
    "    \n",
    "    def __str__(self):\n",
    "        return str(self.r) + '+' + str(self.i)+'j'\n",
    "    \n",
    "    # other : 다른 클래스\n",
    "    # 새로운 클래스 반환(out-place)\n",
    "    def __add__(self,other):\n",
    "        return ArithTest(self.r+other.r+1000, self.i+other.i+100)"
   ]
  },
  {
   "cell_type": "code",
   "execution_count": 43,
   "metadata": {},
   "outputs": [
    {
     "name": "stdout",
     "output_type": "stream",
     "text": [
      "997+102j\n"
     ]
    }
   ],
   "source": [
    "num1 = ArithTest(3,-5)\n",
    "num2 = ArithTest(-6,7)\n",
    "print(num1 + num2)"
   ]
  },
  {
   "cell_type": "markdown",
   "metadata": {},
   "source": [
    "num1+num2 : +가 __add__ 실행 > print()에서 __str__ 값이 출력"
   ]
  },
  {
   "cell_type": "markdown",
   "metadata": {},
   "source": [
    "#### 함수화 메소드(call)\n",
    "*객체를 함수처럼"
   ]
  },
  {
   "cell_type": "code",
   "execution_count": 44,
   "metadata": {},
   "outputs": [],
   "source": [
    "class FunTest:\n",
    "    def __init__(self,data) :\n",
    "        self.data = data\n",
    "    \n",
    "    def __call__(self, inpu) :\n",
    "        return inpu + self.data\n",
    "    \n",
    "    def __len__(self):\n",
    "        return self.data*5\n",
    "    \n",
    "    def __getitem__(self,inpu):\n",
    "        return self.data + inpu\n",
    "    \n",
    "    \n",
    "    #def __add__(self,other):\n",
    "    #    return FunTest(self.data + other.data)\n",
    "    \n",
    "    # in-place?\n",
    "    def __add__(self,other):\n",
    "        return self.data + other.data\n",
    "    \n",
    "    def __str__(self):\n",
    "        return str(self.data) + '출력'"
   ]
  },
  {
   "cell_type": "code",
   "execution_count": 45,
   "metadata": {},
   "outputs": [],
   "source": [
    "test01 = FunTest(100)\n",
    "test02 = FunTest(10)"
   ]
  },
  {
   "cell_type": "code",
   "execution_count": 46,
   "metadata": {},
   "outputs": [
    {
     "name": "stdout",
     "output_type": "stream",
     "text": [
      "300\n"
     ]
    }
   ],
   "source": [
    "# getitem\n",
    "print(test01[200])"
   ]
  },
  {
   "cell_type": "code",
   "execution_count": 47,
   "metadata": {},
   "outputs": [
    {
     "name": "stdout",
     "output_type": "stream",
     "text": [
      "105\n"
     ]
    }
   ],
   "source": [
    "# call\n",
    "print(test01(5))"
   ]
  },
  {
   "cell_type": "code",
   "execution_count": 48,
   "metadata": {},
   "outputs": [
    {
     "name": "stdout",
     "output_type": "stream",
     "text": [
      "500\n"
     ]
    }
   ],
   "source": [
    "# len\n",
    "print(len(test01))"
   ]
  },
  {
   "cell_type": "code",
   "execution_count": 49,
   "metadata": {},
   "outputs": [
    {
     "name": "stdout",
     "output_type": "stream",
     "text": [
      "100출력\n"
     ]
    }
   ],
   "source": [
    "# str\n",
    "print(test01)"
   ]
  },
  {
   "cell_type": "code",
   "execution_count": 50,
   "metadata": {},
   "outputs": [
    {
     "name": "stdout",
     "output_type": "stream",
     "text": [
      "110\n"
     ]
    }
   ],
   "source": [
    "# add\n",
    "print(test01+test02)"
   ]
  },
  {
   "cell_type": "code",
   "execution_count": 51,
   "metadata": {},
   "outputs": [
    {
     "name": "stdout",
     "output_type": "stream",
     "text": [
      "100\n"
     ]
    }
   ],
   "source": [
    "print(test01.data)"
   ]
  },
  {
   "cell_type": "markdown",
   "metadata": {},
   "source": [
    "*생성자(init), call메소드 : argument 자유"
   ]
  },
  {
   "cell_type": "markdown",
   "metadata": {},
   "source": [
    "----"
   ]
  },
  {
   "cell_type": "markdown",
   "metadata": {},
   "source": [
    "#### Iterable"
   ]
  },
  {
   "cell_type": "code",
   "execution_count": 52,
   "metadata": {},
   "outputs": [
    {
     "data": {
      "text/plain": [
       "<list_iterator at 0x2c500656b30>"
      ]
     },
     "execution_count": 52,
     "metadata": {},
     "output_type": "execute_result"
    }
   ],
   "source": [
    "test = [1,2,3,4,5,6]\n",
    "test_iter = iter(test)\n",
    "test_iter"
   ]
  },
  {
   "cell_type": "code",
   "execution_count": 53,
   "metadata": {},
   "outputs": [
    {
     "name": "stdout",
     "output_type": "stream",
     "text": [
      "try :  1\n",
      "try :  2\n",
      "try :  3\n",
      "try :  4\n",
      "try :  5\n",
      "try :  6\n"
     ]
    }
   ],
   "source": [
    "while True :\n",
    "    try :\n",
    "        element = next(test_iter)\n",
    "        #내장함수 next() : leftpop() 너낌\n",
    "        print('try : ',element)\n",
    "    except StopIteration :\n",
    "        break\n"
   ]
  },
  {
   "cell_type": "markdown",
   "metadata": {},
   "source": [
    "#### Context Manager"
   ]
  },
  {
   "cell_type": "code",
   "execution_count": 54,
   "metadata": {},
   "outputs": [],
   "source": [
    "class CMTest:\n",
    "    def __init__(self,data) :\n",
    "        self.data = data\n",
    "    \n",
    "    # with 구문 IN : return 값이 as 이하로 할당\n",
    "    def __enter__(self) :\n",
    "        self.container = []\n",
    "        return self\n",
    "    \n",
    "    # with 구문 OUT\n",
    "    def __exit__(self,var1,var2,var3) :\n",
    "        for c in self.container :\n",
    "            print(c,' 실패')\n",
    "        self.container.clear()"
   ]
  },
  {
   "cell_type": "code",
   "execution_count": 55,
   "metadata": {},
   "outputs": [
    {
     "name": "stdout",
     "output_type": "stream",
     "text": [
      "편지  실패\n"
     ]
    }
   ],
   "source": [
    "test01 = CMTest('김 기사')\n",
    "\n",
    "with test01 :\n",
    "    test01.container.append('편지')"
   ]
  },
  {
   "cell_type": "code",
   "execution_count": 56,
   "metadata": {},
   "outputs": [
    {
     "name": "stdout",
     "output_type": "stream",
     "text": [
      "편지  실패\n"
     ]
    }
   ],
   "source": [
    "with CMTest('박 기사') as test02 :\n",
    "    test02.container.append('편지')"
   ]
  }
 ],
 "metadata": {
  "kernelspec": {
   "display_name": "Python 3.10.2 64-bit",
   "language": "python",
   "name": "python3"
  },
  "language_info": {
   "codemirror_mode": {
    "name": "ipython",
    "version": 3
   },
   "file_extension": ".py",
   "mimetype": "text/x-python",
   "name": "python",
   "nbconvert_exporter": "python",
   "pygments_lexer": "ipython3",
   "version": "3.10.2"
  },
  "orig_nbformat": 4,
  "vscode": {
   "interpreter": {
    "hash": "52634da84371cba311ea128a5ea7cdc41ff074b781779e754b270ff9f8153cee"
   }
  }
 },
 "nbformat": 4,
 "nbformat_minor": 2
}
