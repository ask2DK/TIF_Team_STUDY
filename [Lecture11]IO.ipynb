{
 "cells": [
  {
   "cell_type": "markdown",
   "metadata": {},
   "source": [
    "# Lecture 11 : IO"
   ]
  },
  {
   "cell_type": "markdown",
   "metadata": {},
   "source": [
    "입출력, JSON, YAML"
   ]
  },
  {
   "cell_type": "code",
   "execution_count": 1,
   "metadata": {},
   "outputs": [
    {
     "name": "stdout",
     "output_type": "stream",
     "text": [
      "This is\n"
     ]
    }
   ],
   "source": [
    "print(\"This\",\"is\")"
   ]
  },
  {
   "cell_type": "code",
   "execution_count": 2,
   "metadata": {},
   "outputs": [
    {
     "name": "stdout",
     "output_type": "stream",
     "text": [
      "1\n"
     ]
    }
   ],
   "source": [
    "var = input()\n",
    "print(var)"
   ]
  },
  {
   "cell_type": "markdown",
   "metadata": {},
   "source": [
    "#### File Open"
   ]
  },
  {
   "cell_type": "markdown",
   "metadata": {},
   "source": [
    "- open 내장함수   \n",
    "   test = open(\"파일이름\",\"접근모드\",encoding='utf8')   \n",
    "   test.close()"
   ]
  },
  {
   "cell_type": "markdown",
   "metadata": {},
   "source": [
    "test.py | test02.py : test의 값을 test02에 입력"
   ]
  },
  {
   "cell_type": "markdown",
   "metadata": {},
   "source": [
    "#### File Read"
   ]
  },
  {
   "cell_type": "markdown",
   "metadata": {},
   "source": [
    "- read()    \n",
    "   test = open(\"파일이름\",\"r\")   \n",
    "   contents = test.read()   \n",
    "   test.close()\n",
    "      \n",
    "      print(contents)\n",
    "   \n",
    "   with open(\"file.txt\",\"r\") as test :   \n",
    "         contents = test.read()\n",
    "\n",
    "      print(contents)"
   ]
  },
  {
   "cell_type": "markdown",
   "metadata": {},
   "source": [
    "#### File Read Lines"
   ]
  },
  {
   "cell_type": "markdown",
   "metadata": {},
   "source": [
    " - f.readlines()"
   ]
  },
  {
   "cell_type": "code",
   "execution_count": 3,
   "metadata": {},
   "outputs": [
    {
     "data": {
      "text/plain": [
       "\"\\nwith open('test.txt','r') as f :\\n    for setence in f :\\n        contents.append(setence)\\n\\nprint(contents)\\n\""
      ]
     },
     "execution_count": 3,
     "metadata": {},
     "output_type": "execute_result"
    }
   ],
   "source": [
    "contents = []\n",
    "'''\n",
    "with open('test.txt','r') as f :\n",
    "    for setence in f :\n",
    "        contents.append(setence)\n",
    "\n",
    "print(contents)\n",
    "'''"
   ]
  },
  {
   "cell_type": "code",
   "execution_count": 4,
   "metadata": {},
   "outputs": [
    {
     "data": {
      "text/plain": [
       "\"\\nwith open('test.txt','r') as f :\\n    contents = f.readlines()\\n\\nprint(contents)\\n\""
      ]
     },
     "execution_count": 4,
     "metadata": {},
     "output_type": "execute_result"
    }
   ],
   "source": [
    "'''\n",
    "with open('test.txt','r') as f :\n",
    "    contents = f.readlines()\n",
    "\n",
    "print(contents)\n",
    "'''"
   ]
  },
  {
   "cell_type": "markdown",
   "metadata": {},
   "source": [
    "#### File Write"
   ]
  },
  {
   "cell_type": "markdown",
   "metadata": {},
   "source": [
    "- f.writeline()\n",
    "- f.write()"
   ]
  },
  {
   "cell_type": "markdown",
   "metadata": {},
   "source": [
    "#### Directory"
   ]
  },
  {
   "cell_type": "code",
   "execution_count": 5,
   "metadata": {},
   "outputs": [],
   "source": [
    "import os\n",
    "\n",
    "#01\n",
    "# os.mkdir('test')\n",
    "# 폴더 만듬(폴더 존재하면 에러)\n",
    "\n",
    "#02\n",
    "# if not os.path.isdir(\"test) : # 폴더 있는지 확인\n",
    "#       os.mkdir('test')\n",
    "\n",
    "#03\n",
    "# os.mkdirs('test/a/b/c',exist_ok=True)\n",
    "# exist_ok=True ::  파일 존재해도 무시하고 내부 폴더 만듬"
   ]
  },
  {
   "cell_type": "markdown",
   "metadata": {},
   "source": [
    "#### Listing Directory"
   ]
  },
  {
   "cell_type": "code",
   "execution_count": 6,
   "metadata": {},
   "outputs": [],
   "source": [
    "#print([x for x in os.listdir('test')])\n",
    "#\n",
    "# test폴더 안의 파일 이름 출력"
   ]
  },
  {
   "cell_type": "markdown",
   "metadata": {},
   "source": [
    "#### Pickle   \n",
    "파이썬 객체를 그대로 저장"
   ]
  },
  {
   "cell_type": "code",
   "execution_count": 7,
   "metadata": {},
   "outputs": [
    {
     "data": {
      "text/plain": [
       "\"\\ntest = [x*y for x in range(100) for y in range(100)]\\n\\nwith open('test.pkl','wb') as fd :\\n    pickle.dump(test,fd)\\n\\ndel test\\n\\nwith open('test.pkl','rb') as fd :\\n    test - pickle.load(fd)\\n\\nprint(test[0][1])\\n\""
      ]
     },
     "execution_count": 7,
     "metadata": {},
     "output_type": "execute_result"
    }
   ],
   "source": [
    "import pickle\n",
    "'''\n",
    "test = [x*y for x in range(100) for y in range(100)]\n",
    "\n",
    "with open('test.pkl','wb') as fd :\n",
    "    pickle.dump(test,fd)\n",
    "\n",
    "del test\n",
    "\n",
    "with open('test.pkl','rb') as fd :\n",
    "    test - pickle.load(fd)\n",
    "\n",
    "print(test[0][1])\n",
    "'''"
   ]
  },
  {
   "cell_type": "markdown",
   "metadata": {},
   "source": [
    "pickle파일은 파이썬 전용"
   ]
  },
  {
   "cell_type": "markdown",
   "metadata": {},
   "source": [
    "### CSV\n",
    "comma Separate Values"
   ]
  },
  {
   "cell_type": "code",
   "execution_count": 8,
   "metadata": {},
   "outputs": [
    {
     "data": {
      "text/plain": [
       "'\\nwith open(\\'test.csv\\',\\'r\\') as csvf :\\n    reader = csv.reader(csvf,                       # file descriptor\\n                        delimiter = \\',\\',            # 구분자 ,\\n                        quotechar=\\'\"\\'               # 텍스트 감싸기 문자 \"\\n                        quoting = csv.QUOTE_MINIMAL)\\n    \\n    for x in reader :\\n        print(x)\\n'"
      ]
     },
     "execution_count": 8,
     "metadata": {},
     "output_type": "execute_result"
    }
   ],
   "source": [
    "import csv\n",
    "'''\n",
    "with open('test.csv','r') as csvf :\n",
    "    reader = csv.reader(csvf,                       # file descriptor\n",
    "                        delimiter = ',',            # 구분자 ,\n",
    "                        quotechar='\"'               # 텍스트 감싸기 문자 \"\n",
    "                        quoting = csv.QUOTE_MINIMAL)\n",
    "    \n",
    "    for x in reader :\n",
    "        print(x)\n",
    "'''"
   ]
  },
  {
   "cell_type": "code",
   "execution_count": 9,
   "metadata": {},
   "outputs": [
    {
     "data": {
      "text/plain": [
       "'\\nwith open(\\'test.csv\\',\\'w\\') as csvf :\\n    writer = csv.writer(csvf,                       # file descriptor\\n                        delimiter = \\',\\',            # 구분자 ,\\n                        quotechar=\\'\"\\'               # 텍스트 감싸기 문자 \"\\n                        quoting = csv.QUOTE_MINIMAL)\\n    \\n    writer.writerrow([\\'01\\',\\'02\\'])\\n    writer.writerrows([i,f\\'level_{i}\\']for i in range(10)\\n'"
      ]
     },
     "execution_count": 9,
     "metadata": {},
     "output_type": "execute_result"
    }
   ],
   "source": [
    "'''\n",
    "with open('test.csv','w') as csvf :\n",
    "    writer = csv.writer(csvf,                       # file descriptor\n",
    "                        delimiter = ',',            # 구분자 ,\n",
    "                        quotechar='\"'               # 텍스트 감싸기 문자 \"\n",
    "                        quoting = csv.QUOTE_MINIMAL)\n",
    "    \n",
    "    writer.writerrow(['01','02'])\n",
    "    writer.writerrows([i,f'level_{i}']for i in range(10)\n",
    "'''"
   ]
  },
  {
   "cell_type": "markdown",
   "metadata": {},
   "source": [
    "### JSON\n",
    "JavaScript Object Notation"
   ]
  },
  {
   "cell_type": "markdown",
   "metadata": {},
   "source": [
    " - 자료구조 양식을 문자열로 표현\n",
    " - 코드 불러오기 쉽고 파일 크기 작은 편\n",
    " - Parser 직접 작성.."
   ]
  },
  {
   "cell_type": "markdown",
   "metadata": {},
   "source": [
    "- 직렬화 가능한 개체   \n",
    "   - 원시타입\n",
    "   - 자료구조   \n",
    "\n",
    "   클래스 불가능"
   ]
  },
  {
   "cell_type": "markdown",
   "metadata": {},
   "source": [
    "#### Reading JSoN"
   ]
  },
  {
   "cell_type": "code",
   "execution_count": 10,
   "metadata": {},
   "outputs": [
    {
     "data": {
      "text/plain": [
       "\"\\nwith open('test.json','r') as f :\\n    data = json.load(f)\\n\\nprint(data['ID'])\\n\""
      ]
     },
     "execution_count": 10,
     "metadata": {},
     "output_type": "execute_result"
    }
   ],
   "source": [
    "import json\n",
    "\n",
    "'''\n",
    "with open('test.json','r') as f :\n",
    "    data = json.load(f)\n",
    "\n",
    "print(data['ID'])\n",
    "'''"
   ]
  },
  {
   "cell_type": "code",
   "execution_count": 11,
   "metadata": {},
   "outputs": [
    {
     "data": {
      "text/plain": [
       "\"\\nwith open('test.json','w') as f :\\n    json.dump(obj,f)\\n\\n\""
      ]
     },
     "execution_count": 11,
     "metadata": {},
     "output_type": "execute_result"
    }
   ],
   "source": [
    "obj = {\n",
    "    'ID' : None,\n",
    "    'bool' : False\n",
    "}\n",
    "'''\n",
    "with open('test.json','w') as f :\n",
    "    json.dump(obj,f)\n",
    "\n",
    "'''"
   ]
  },
  {
   "cell_type": "markdown",
   "metadata": {},
   "source": [
    "#### XML"
   ]
  },
  {
   "cell_type": "markdown",
   "metadata": {},
   "source": [
    "- HTML 파일을 읽어 웹 클롤러 제작 가능\n",
    "- <태그><\\태그> 사이에 값이 표시\n",
    "- HTML은 웹페이지 표시를 위한 XML\n",
    "- 정규표현식으로 파싱 가능 :: Beautiful Soup 라이브러리 사용"
   ]
  },
  {
   "cell_type": "markdown",
   "metadata": {},
   "source": [
    "- Beautiful Soup   \n",
    "   - parser 중 하나\n",
    "   - 속도는 느리나 간편\n",
    "   - install beautifulsoup4"
   ]
  }
 ],
 "metadata": {
  "kernelspec": {
   "display_name": "Python 3.10.2 64-bit",
   "language": "python",
   "name": "python3"
  },
  "language_info": {
   "codemirror_mode": {
    "name": "ipython",
    "version": 3
   },
   "file_extension": ".py",
   "mimetype": "text/x-python",
   "name": "python",
   "nbconvert_exporter": "python",
   "pygments_lexer": "ipython3",
   "version": "3.10.2"
  },
  "orig_nbformat": 4,
  "vscode": {
   "interpreter": {
    "hash": "52634da84371cba311ea128a5ea7cdc41ff074b781779e754b270ff9f8153cee"
   }
  }
 },
 "nbformat": 4,
 "nbformat_minor": 2
}
